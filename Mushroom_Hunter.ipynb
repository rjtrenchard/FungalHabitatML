{
  "nbformat": 4,
  "nbformat_minor": 0,
  "metadata": {
    "colab": {
      "provenance": [],
      "authorship_tag": "ABX9TyOdXDpT8trY1POTRghVrv+K",
      "include_colab_link": true
    },
    "kernelspec": {
      "name": "python3",
      "display_name": "Python 3"
    },
    "language_info": {
      "name": "python"
    }
  },
  "cells": [
    {
      "cell_type": "markdown",
      "metadata": {
        "id": "view-in-github",
        "colab_type": "text"
      },
      "source": [
        "<a href=\"https://colab.research.google.com/github/rjtrenchard/FungalHabitatML/blob/main/Mushroom_Hunter.ipynb\" target=\"_parent\"><img src=\"https://colab.research.google.com/assets/colab-badge.svg\" alt=\"Open In Colab\"/></a>"
      ]
    },
    {
      "cell_type": "markdown",
      "source": [
        "# Mushroom Hunter\n",
        "\n",
        "Author: R.J. Trenchard\n",
        "\n",
        "Date: Nov. 11, 2024\n",
        "\n",
        "#### Description:\n",
        "This is an ML project that will try to identify mushrooms based on given characteristics."
      ],
      "metadata": {
        "id": "SvyyQOoCrp79"
      }
    },
    {
      "cell_type": "markdown",
      "source": [
        "# M5 Exploratory Data Analysis (EDA)\n",
        "\n",
        "    ML workflow\n",
        "    Basic statistical measures (mean, median, mode)\n",
        "    Data distribution analysis (histograms, box plots)\n",
        "    Correlation analysis (scatter plots, correlation matrices)\n",
        "    Identifying outliers and anomalies\n",
        "    Using libraries like Pandas, Matplotlib, and Seaborn for EDA\n",
        "    Creating insightful visualizations (bar charts, heatmaps, pair plots)\n",
        "    Drawing initial insights from the data"
      ],
      "metadata": {
        "id": "s1xsKht9oxoz"
      }
    },
    {
      "cell_type": "code",
      "execution_count": null,
      "metadata": {
        "id": "a6HAalvzrksk"
      },
      "outputs": [],
      "source": []
    },
    {
      "cell_type": "markdown",
      "source": [
        "  # Module 6 - Data Preparation\n",
        "    Data cleaning techniques\n",
        "    Handling missing data (imputation strategies)\n",
        "    Dealing with categorical data (one-hot encoding)\n",
        "    Feature scaling and normalization\n",
        "    Handling outliers (when to remove, when to keep)\n",
        "    Handling class imbalance"
      ],
      "metadata": {
        "id": "F0X0eUJGo3lZ"
      }
    },
    {
      "cell_type": "code",
      "source": [],
      "metadata": {
        "id": "Ig-GCJIRpVAX"
      },
      "execution_count": null,
      "outputs": []
    },
    {
      "cell_type": "markdown",
      "source": [
        "# Module 8 - Machine Learning Algorithms\n",
        "\n",
        "    Train / Test / Val\n",
        "    Linear / Logistic Regression\n",
        "    Decision Trees\n",
        "    Random Forests / Boosting vs Bagging\n",
        "    Understanding Accuracy and the Confusion Matrix"
      ],
      "metadata": {
        "id": "rUgN7xfCpMG-"
      }
    }
  ]
}