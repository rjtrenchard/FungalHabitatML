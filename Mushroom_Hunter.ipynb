{
 "cells": [
  {
   "cell_type": "markdown",
   "metadata": {
    "id": "SvyyQOoCrp79"
   },
   "source": [
    "# Mushroom Hunter\n",
    "\n",
    "Author: R.J. Trenchard\n",
    "\n",
    "Date: Nov. 11, 2024\n",
    "\n",
    "#### Description:\n",
    "This is an ML project that will try to identify mushrooms based on given characteristics.\n",
    "\n",
    "#### Source dataset:\n",
    "https://archive.ics.uci.edu/dataset/848/secondary+mushroom+dataset"
   ]
  },
  {
   "cell_type": "markdown",
   "metadata": {
    "id": "DtmMqd_a547b"
   },
   "source": [
    "#### Reading the raw dataset:\n",
    "n = nominal\n",
    "m = metrical\n",
    "1. cap-diameter (m): float number in cm\n",
    "2. cap-shape (n): bell=b, conical=c, convex=x, flat=f,\n",
    "sunken=s, spherical=p, others=o\n",
    "3. cap-surface (n): fibrous=i, grooves=g, scaly=y, smooth=s,\n",
    "shiny=h, leathery=l, silky=k, sticky=t,\n",
    "wrinkled=w, fleshy=e\n",
    "4. cap-color (n): brown=n, buff=b, gray=g, green=r, pink=p,\n",
    "purple=u, red=e, white=w, yellow=y, blue=l,\n",
    "orange=o, black=k\n",
    "5. does-bruise-bleed (n): bruises-or-bleeding=t,no=f\n",
    "6. gill-attachment (n): adnate=a, adnexed=x, decurrent=d, free=e,\n",
    "sinuate=s, pores=p, none=f, unknown=?\n",
    "7. gill-spacing (n): close=c, distant=d, none=f\n",
    "8. gill-color (n): see cap-color + none=f\n",
    "9. stem-height (m): float number in cm\n",
    "10. stem-width (m): float number in mm\n",
    "11. stem-root (n): bulbous=b, swollen=s, club=c, cup=u, equal=e,\n",
    "rhizomorphs=z, rooted=r\n",
    "12. stem-surface (n): see cap-surface + none=f\n",
    "13. stem-color (n): see cap-color + none=f\n",
    "14. veil-type (n): partial=p, universal=u\n",
    "15. veil-color (n): see cap-color + none=f\n",
    "16. has-ring (n): ring=t, none=f\n",
    "17. ring-type (n): cobwebby=c, evanescent=e, flaring=r, grooved=g,\n",
    "large=l, pendant=p, sheathing=s, zone=z, scaly=y, movable=m, none=f, unknown=?\n",
    "18. spore-print-color (n): see cap color\n",
    "19. habitat (n): grasses=g, leaves=l, meadows=m, paths=p, heaths=h,\n",
    "urban=u, waste=w, woods=d\n",
    "20. season (n): spring=s, summer=u, autumn=a, winter=w\n",
    "21. class (n): poisonous=p, edible=e\n",
    "\n",
    "* TODO: consider adding mushroom name dataset"
   ]
  },
  {
   "cell_type": "markdown",
   "metadata": {
    "id": "cDQMpe3W6IHO"
   },
   "source": [
    "#### Preparing the dataset"
   ]
  },
  {
   "cell_type": "code",
   "execution_count": 47,
   "metadata": {
    "id": "V6jMwxKrp_w0"
   },
   "outputs": [
    {
     "name": "stdout",
     "output_type": "stream",
     "text": [
      "Requirement already satisfied: ucimlrepo in ./.venv/lib/python3.13/site-packages (0.0.7)\n",
      "Requirement already satisfied: pandas>=1.0.0 in ./.venv/lib/python3.13/site-packages (from ucimlrepo) (2.2.3)\n",
      "Requirement already satisfied: certifi>=2020.12.5 in ./.venv/lib/python3.13/site-packages (from ucimlrepo) (2024.8.30)\n",
      "Requirement already satisfied: numpy>=1.26.0 in ./.venv/lib/python3.13/site-packages (from pandas>=1.0.0->ucimlrepo) (2.2.0)\n",
      "Requirement already satisfied: python-dateutil>=2.8.2 in ./.venv/lib/python3.13/site-packages (from pandas>=1.0.0->ucimlrepo) (2.9.0.post0)\n",
      "Requirement already satisfied: pytz>=2020.1 in ./.venv/lib/python3.13/site-packages (from pandas>=1.0.0->ucimlrepo) (2024.2)\n",
      "Requirement already satisfied: tzdata>=2022.7 in ./.venv/lib/python3.13/site-packages (from pandas>=1.0.0->ucimlrepo) (2024.2)\n",
      "Requirement already satisfied: six>=1.5 in ./.venv/lib/python3.13/site-packages (from python-dateutil>=2.8.2->pandas>=1.0.0->ucimlrepo) (1.17.0)\n",
      "Note: you may need to restart the kernel to use updated packages.\n",
      "Requirement already satisfied: matplotlib in ./.venv/lib/python3.13/site-packages (3.9.3)\n",
      "Requirement already satisfied: contourpy>=1.0.1 in ./.venv/lib/python3.13/site-packages (from matplotlib) (1.3.1)\n",
      "Requirement already satisfied: cycler>=0.10 in ./.venv/lib/python3.13/site-packages (from matplotlib) (0.12.1)\n",
      "Requirement already satisfied: fonttools>=4.22.0 in ./.venv/lib/python3.13/site-packages (from matplotlib) (4.55.3)\n",
      "Requirement already satisfied: kiwisolver>=1.3.1 in ./.venv/lib/python3.13/site-packages (from matplotlib) (1.4.7)\n",
      "Requirement already satisfied: numpy>=1.23 in ./.venv/lib/python3.13/site-packages (from matplotlib) (2.2.0)\n",
      "Requirement already satisfied: packaging>=20.0 in ./.venv/lib/python3.13/site-packages (from matplotlib) (24.2)\n",
      "Requirement already satisfied: pillow>=8 in ./.venv/lib/python3.13/site-packages (from matplotlib) (11.0.0)\n",
      "Requirement already satisfied: pyparsing>=2.3.1 in ./.venv/lib/python3.13/site-packages (from matplotlib) (3.2.0)\n",
      "Requirement already satisfied: python-dateutil>=2.7 in ./.venv/lib/python3.13/site-packages (from matplotlib) (2.9.0.post0)\n",
      "Requirement already satisfied: six>=1.5 in ./.venv/lib/python3.13/site-packages (from python-dateutil>=2.7->matplotlib) (1.17.0)\n",
      "Note: you may need to restart the kernel to use updated packages.\n",
      "Requirement already satisfied: seaborn in ./.venv/lib/python3.13/site-packages (0.13.2)\n",
      "Requirement already satisfied: numpy!=1.24.0,>=1.20 in ./.venv/lib/python3.13/site-packages (from seaborn) (2.2.0)\n",
      "Requirement already satisfied: pandas>=1.2 in ./.venv/lib/python3.13/site-packages (from seaborn) (2.2.3)\n",
      "Requirement already satisfied: matplotlib!=3.6.1,>=3.4 in ./.venv/lib/python3.13/site-packages (from seaborn) (3.9.3)\n",
      "Requirement already satisfied: contourpy>=1.0.1 in ./.venv/lib/python3.13/site-packages (from matplotlib!=3.6.1,>=3.4->seaborn) (1.3.1)\n",
      "Requirement already satisfied: cycler>=0.10 in ./.venv/lib/python3.13/site-packages (from matplotlib!=3.6.1,>=3.4->seaborn) (0.12.1)\n",
      "Requirement already satisfied: fonttools>=4.22.0 in ./.venv/lib/python3.13/site-packages (from matplotlib!=3.6.1,>=3.4->seaborn) (4.55.3)\n",
      "Requirement already satisfied: kiwisolver>=1.3.1 in ./.venv/lib/python3.13/site-packages (from matplotlib!=3.6.1,>=3.4->seaborn) (1.4.7)\n",
      "Requirement already satisfied: packaging>=20.0 in ./.venv/lib/python3.13/site-packages (from matplotlib!=3.6.1,>=3.4->seaborn) (24.2)\n",
      "Requirement already satisfied: pillow>=8 in ./.venv/lib/python3.13/site-packages (from matplotlib!=3.6.1,>=3.4->seaborn) (11.0.0)\n",
      "Requirement already satisfied: pyparsing>=2.3.1 in ./.venv/lib/python3.13/site-packages (from matplotlib!=3.6.1,>=3.4->seaborn) (3.2.0)\n",
      "Requirement already satisfied: python-dateutil>=2.7 in ./.venv/lib/python3.13/site-packages (from matplotlib!=3.6.1,>=3.4->seaborn) (2.9.0.post0)\n",
      "Requirement already satisfied: pytz>=2020.1 in ./.venv/lib/python3.13/site-packages (from pandas>=1.2->seaborn) (2024.2)\n",
      "Requirement already satisfied: tzdata>=2022.7 in ./.venv/lib/python3.13/site-packages (from pandas>=1.2->seaborn) (2024.2)\n",
      "Requirement already satisfied: six>=1.5 in ./.venv/lib/python3.13/site-packages (from python-dateutil>=2.7->matplotlib!=3.6.1,>=3.4->seaborn) (1.17.0)\n",
      "Note: you may need to restart the kernel to use updated packages.\n",
      "Collecting scikit-learn\n",
      "  Downloading scikit_learn-1.6.0-cp313-cp313-macosx_10_13_x86_64.whl.metadata (31 kB)\n",
      "Requirement already satisfied: numpy>=1.19.5 in ./.venv/lib/python3.13/site-packages (from scikit-learn) (2.2.0)\n",
      "Collecting scipy>=1.6.0 (from scikit-learn)\n",
      "  Downloading scipy-1.14.1-cp313-cp313-macosx_14_0_x86_64.whl.metadata (60 kB)\n",
      "Collecting joblib>=1.2.0 (from scikit-learn)\n",
      "  Downloading joblib-1.4.2-py3-none-any.whl.metadata (5.4 kB)\n",
      "Collecting threadpoolctl>=3.1.0 (from scikit-learn)\n",
      "  Downloading threadpoolctl-3.5.0-py3-none-any.whl.metadata (13 kB)\n",
      "Downloading scikit_learn-1.6.0-cp313-cp313-macosx_10_13_x86_64.whl (12.0 MB)\n",
      "\u001b[2K   \u001b[90m━━━━━━━━━━━━━━━━━━━━━━━━━━━━━━━━━━━━━━━━\u001b[0m \u001b[32m12.0/12.0 MB\u001b[0m \u001b[31m37.0 MB/s\u001b[0m eta \u001b[36m0:00:00\u001b[0m \u001b[36m0:00:01\u001b[0m\n",
      "\u001b[?25hDownloading joblib-1.4.2-py3-none-any.whl (301 kB)\n",
      "Downloading scipy-1.14.1-cp313-cp313-macosx_14_0_x86_64.whl (25.5 MB)\n",
      "\u001b[2K   \u001b[90m━━━━━━━━━━━━━━━━━━━━━━━━━━━━━━━━━━━━━━━━\u001b[0m \u001b[32m25.5/25.5 MB\u001b[0m \u001b[31m38.9 MB/s\u001b[0m eta \u001b[36m0:00:00\u001b[0m00:01\u001b[0m00:01\u001b[0m\n",
      "\u001b[?25hDownloading threadpoolctl-3.5.0-py3-none-any.whl (18 kB)\n",
      "Installing collected packages: threadpoolctl, scipy, joblib, scikit-learn\n",
      "Successfully installed joblib-1.4.2 scikit-learn-1.6.0 scipy-1.14.1 threadpoolctl-3.5.0\n",
      "Note: you may need to restart the kernel to use updated packages.\n"
     ]
    }
   ],
   "source": [
    "# %%capture\n",
    "# install external libs for downloading data\n",
    "%pip install ucimlrepo\n",
    "%pip install matplotlib\n",
    "%pip install seaborn\n",
    "%pip install scikit-learn"
   ]
  },
  {
   "cell_type": "code",
   "execution_count": 27,
   "metadata": {
    "colab": {
     "base_uri": "https://localhost:8080/",
     "height": 308
    },
    "id": "wDVpmD3-poJg",
    "outputId": "ae22856b-7d10-449e-e589-ba402e4b7b92"
   },
   "outputs": [
    {
     "data": {
      "text/html": [
       "<div>\n",
       "<style scoped>\n",
       "    .dataframe tbody tr th:only-of-type {\n",
       "        vertical-align: middle;\n",
       "    }\n",
       "\n",
       "    .dataframe tbody tr th {\n",
       "        vertical-align: top;\n",
       "    }\n",
       "\n",
       "    .dataframe thead th {\n",
       "        text-align: right;\n",
       "    }\n",
       "</style>\n",
       "<table border=\"1\" class=\"dataframe\">\n",
       "  <thead>\n",
       "    <tr style=\"text-align: right;\">\n",
       "      <th></th>\n",
       "      <th>cap-diameter</th>\n",
       "      <th>cap-shape</th>\n",
       "      <th>cap-surface</th>\n",
       "      <th>cap-color</th>\n",
       "      <th>does-bruise-or-bleed</th>\n",
       "      <th>gill-attachment</th>\n",
       "      <th>gill-spacing</th>\n",
       "      <th>gill-color</th>\n",
       "      <th>stem-height</th>\n",
       "      <th>stem-width</th>\n",
       "      <th>...</th>\n",
       "      <th>stem-surface</th>\n",
       "      <th>stem-color</th>\n",
       "      <th>veil-type</th>\n",
       "      <th>veil-color</th>\n",
       "      <th>has-ring</th>\n",
       "      <th>ring-type</th>\n",
       "      <th>spore-print-color</th>\n",
       "      <th>habitat</th>\n",
       "      <th>season</th>\n",
       "      <th>class</th>\n",
       "    </tr>\n",
       "  </thead>\n",
       "  <tbody>\n",
       "    <tr>\n",
       "      <th>0</th>\n",
       "      <td>15.26</td>\n",
       "      <td>x</td>\n",
       "      <td>g</td>\n",
       "      <td>o</td>\n",
       "      <td>f</td>\n",
       "      <td>e</td>\n",
       "      <td>NaN</td>\n",
       "      <td>w</td>\n",
       "      <td>16.95</td>\n",
       "      <td>17.09</td>\n",
       "      <td>...</td>\n",
       "      <td>y</td>\n",
       "      <td>w</td>\n",
       "      <td>u</td>\n",
       "      <td>w</td>\n",
       "      <td>t</td>\n",
       "      <td>g</td>\n",
       "      <td>NaN</td>\n",
       "      <td>d</td>\n",
       "      <td>w</td>\n",
       "      <td>p</td>\n",
       "    </tr>\n",
       "    <tr>\n",
       "      <th>1</th>\n",
       "      <td>16.60</td>\n",
       "      <td>x</td>\n",
       "      <td>g</td>\n",
       "      <td>o</td>\n",
       "      <td>f</td>\n",
       "      <td>e</td>\n",
       "      <td>NaN</td>\n",
       "      <td>w</td>\n",
       "      <td>17.99</td>\n",
       "      <td>18.19</td>\n",
       "      <td>...</td>\n",
       "      <td>y</td>\n",
       "      <td>w</td>\n",
       "      <td>u</td>\n",
       "      <td>w</td>\n",
       "      <td>t</td>\n",
       "      <td>g</td>\n",
       "      <td>NaN</td>\n",
       "      <td>d</td>\n",
       "      <td>u</td>\n",
       "      <td>p</td>\n",
       "    </tr>\n",
       "    <tr>\n",
       "      <th>2</th>\n",
       "      <td>14.07</td>\n",
       "      <td>x</td>\n",
       "      <td>g</td>\n",
       "      <td>o</td>\n",
       "      <td>f</td>\n",
       "      <td>e</td>\n",
       "      <td>NaN</td>\n",
       "      <td>w</td>\n",
       "      <td>17.80</td>\n",
       "      <td>17.74</td>\n",
       "      <td>...</td>\n",
       "      <td>y</td>\n",
       "      <td>w</td>\n",
       "      <td>u</td>\n",
       "      <td>w</td>\n",
       "      <td>t</td>\n",
       "      <td>g</td>\n",
       "      <td>NaN</td>\n",
       "      <td>d</td>\n",
       "      <td>w</td>\n",
       "      <td>p</td>\n",
       "    </tr>\n",
       "    <tr>\n",
       "      <th>3</th>\n",
       "      <td>14.17</td>\n",
       "      <td>f</td>\n",
       "      <td>h</td>\n",
       "      <td>e</td>\n",
       "      <td>f</td>\n",
       "      <td>e</td>\n",
       "      <td>NaN</td>\n",
       "      <td>w</td>\n",
       "      <td>15.77</td>\n",
       "      <td>15.98</td>\n",
       "      <td>...</td>\n",
       "      <td>y</td>\n",
       "      <td>w</td>\n",
       "      <td>u</td>\n",
       "      <td>w</td>\n",
       "      <td>t</td>\n",
       "      <td>p</td>\n",
       "      <td>NaN</td>\n",
       "      <td>d</td>\n",
       "      <td>w</td>\n",
       "      <td>p</td>\n",
       "    </tr>\n",
       "    <tr>\n",
       "      <th>4</th>\n",
       "      <td>14.64</td>\n",
       "      <td>x</td>\n",
       "      <td>h</td>\n",
       "      <td>o</td>\n",
       "      <td>f</td>\n",
       "      <td>e</td>\n",
       "      <td>NaN</td>\n",
       "      <td>w</td>\n",
       "      <td>16.53</td>\n",
       "      <td>17.20</td>\n",
       "      <td>...</td>\n",
       "      <td>y</td>\n",
       "      <td>w</td>\n",
       "      <td>u</td>\n",
       "      <td>w</td>\n",
       "      <td>t</td>\n",
       "      <td>p</td>\n",
       "      <td>NaN</td>\n",
       "      <td>d</td>\n",
       "      <td>w</td>\n",
       "      <td>p</td>\n",
       "    </tr>\n",
       "  </tbody>\n",
       "</table>\n",
       "<p>5 rows × 21 columns</p>\n",
       "</div>"
      ],
      "text/plain": [
       "   cap-diameter cap-shape cap-surface cap-color does-bruise-or-bleed  \\\n",
       "0         15.26         x           g         o                    f   \n",
       "1         16.60         x           g         o                    f   \n",
       "2         14.07         x           g         o                    f   \n",
       "3         14.17         f           h         e                    f   \n",
       "4         14.64         x           h         o                    f   \n",
       "\n",
       "  gill-attachment gill-spacing gill-color  stem-height  stem-width  ...  \\\n",
       "0               e          NaN          w        16.95       17.09  ...   \n",
       "1               e          NaN          w        17.99       18.19  ...   \n",
       "2               e          NaN          w        17.80       17.74  ...   \n",
       "3               e          NaN          w        15.77       15.98  ...   \n",
       "4               e          NaN          w        16.53       17.20  ...   \n",
       "\n",
       "  stem-surface stem-color veil-type veil-color has-ring ring-type  \\\n",
       "0            y          w         u          w        t         g   \n",
       "1            y          w         u          w        t         g   \n",
       "2            y          w         u          w        t         g   \n",
       "3            y          w         u          w        t         p   \n",
       "4            y          w         u          w        t         p   \n",
       "\n",
       "  spore-print-color habitat season class  \n",
       "0               NaN       d      w     p  \n",
       "1               NaN       d      u     p  \n",
       "2               NaN       d      w     p  \n",
       "3               NaN       d      w     p  \n",
       "4               NaN       d      w     p  \n",
       "\n",
       "[5 rows x 21 columns]"
      ]
     },
     "execution_count": 27,
     "metadata": {},
     "output_type": "execute_result"
    }
   ],
   "source": [
    "# load/download dataset\n",
    "from ucimlrepo import fetch_ucirepo\n",
    "\n",
    "# fetch dataset\n",
    "secondary_mushroom = fetch_ucirepo(id=848)\n",
    "\n",
    "\n",
    "\n",
    "# data (as pandas dataframes)\n",
    "X = secondary_mushroom.data.features\n",
    "y = secondary_mushroom.data.targets\n",
    "\n",
    "# metadata\n",
    "# print(secondary_mushroom.metadata)\n",
    "\n",
    "# variable information\n",
    "# print(secondary_mushroom.variables)\n",
    "\n",
    "# create dataframe, the features and targets are already defined but we can\n",
    "# can make a big object so we can see everything in the data exploration phase\n",
    "import pandas as pd\n",
    "df = pd.concat([X, y], axis=1)\n",
    "df.head()\n"
   ]
  },
  {
   "cell_type": "markdown",
   "metadata": {
    "id": "s1xsKht9oxoz"
   },
   "source": [
    "# M5 Exploratory Data Analysis (EDA)\n",
    "\n",
    "    ML workflow\n",
    "    Basic statistical measures (mean, median, mode)\n",
    "    Data distribution analysis (histograms, box plots)\n",
    "    Correlation analysis (scatter plots, correlation matrices)\n",
    "    Identifying outliers and anomalies\n",
    "    Using libraries like Pandas, Matplotlib, and Seaborn for EDA\n",
    "    Creating insightful visualizations (bar charts, heatmaps, pair plots)\n",
    "    Drawing initial insights from the data"
   ]
  },
  {
   "cell_type": "markdown",
   "metadata": {
    "id": "v7_tzTMAWpIc"
   },
   "source": [
    "#### Analyze Null counts\n"
   ]
  },
  {
   "cell_type": "code",
   "execution_count": 28,
   "metadata": {
    "colab": {
     "base_uri": "https://localhost:8080/",
     "height": 743
    },
    "id": "WdXBcnTtVh_b",
    "outputId": "cc46f915-ddb0-411b-b456-a9a7961387f9"
   },
   "outputs": [
    {
     "data": {
      "text/plain": [
       "cap-diameter                0\n",
       "cap-shape                   0\n",
       "cap-surface             14120\n",
       "cap-color                   0\n",
       "does-bruise-or-bleed        0\n",
       "gill-attachment          9884\n",
       "gill-spacing            25063\n",
       "gill-color                  0\n",
       "stem-height                 0\n",
       "stem-width                  0\n",
       "stem-root               51538\n",
       "stem-surface            38124\n",
       "stem-color                  0\n",
       "veil-type               57892\n",
       "veil-color              53656\n",
       "has-ring                    0\n",
       "ring-type                2471\n",
       "spore-print-color       54715\n",
       "habitat                     0\n",
       "season                      0\n",
       "class                       0\n",
       "dtype: int64"
      ]
     },
     "execution_count": 28,
     "metadata": {},
     "output_type": "execute_result"
    }
   ],
   "source": [
    "# show null counts\n",
    "df.isnull().sum()\n",
    "\n",
    "# nulls in these tables are a feature, not a bug\n",
    "# not all mushrooms present the same."
   ]
  },
  {
   "cell_type": "code",
   "execution_count": 29,
   "metadata": {
    "colab": {
     "base_uri": "https://localhost:8080/",
     "height": 743
    },
    "id": "4VrGZ2F5WCJw",
    "outputId": "499fba73-77d0-4b42-976b-52bbf6a230b4"
   },
   "outputs": [
    {
     "data": {
      "text/plain": [
       "cap-diameter             0.000000\n",
       "cap-shape                0.000000\n",
       "cap-surface             23.121387\n",
       "cap-color                0.000000\n",
       "does-bruise-or-bleed     0.000000\n",
       "gill-attachment         16.184971\n",
       "gill-spacing            41.040462\n",
       "gill-color               0.000000\n",
       "stem-height              0.000000\n",
       "stem-width               0.000000\n",
       "stem-root               84.393064\n",
       "stem-surface            62.427746\n",
       "stem-color               0.000000\n",
       "veil-type               94.797688\n",
       "veil-color              87.861272\n",
       "has-ring                 0.000000\n",
       "ring-type                4.046243\n",
       "spore-print-color       89.595376\n",
       "habitat                  0.000000\n",
       "season                   0.000000\n",
       "class                    0.000000\n",
       "dtype: float64"
      ]
     },
     "execution_count": 29,
     "metadata": {},
     "output_type": "execute_result"
    }
   ],
   "source": [
    "# show percentage of missing values\n",
    "df.isnull().mean() * 100"
   ]
  },
  {
   "cell_type": "code",
   "execution_count": 30,
   "metadata": {
    "colab": {
     "base_uri": "https://localhost:8080/",
     "height": 300
    },
    "id": "a6HAalvzrksk",
    "outputId": "020b6aa6-0f4a-4d40-d9b2-d07ed1940e97"
   },
   "outputs": [
    {
     "data": {
      "text/html": [
       "<div>\n",
       "<style scoped>\n",
       "    .dataframe tbody tr th:only-of-type {\n",
       "        vertical-align: middle;\n",
       "    }\n",
       "\n",
       "    .dataframe tbody tr th {\n",
       "        vertical-align: top;\n",
       "    }\n",
       "\n",
       "    .dataframe thead th {\n",
       "        text-align: right;\n",
       "    }\n",
       "</style>\n",
       "<table border=\"1\" class=\"dataframe\">\n",
       "  <thead>\n",
       "    <tr style=\"text-align: right;\">\n",
       "      <th></th>\n",
       "      <th>cap-diameter</th>\n",
       "      <th>stem-height</th>\n",
       "      <th>stem-width</th>\n",
       "    </tr>\n",
       "  </thead>\n",
       "  <tbody>\n",
       "    <tr>\n",
       "      <th>count</th>\n",
       "      <td>61069.000000</td>\n",
       "      <td>61069.000000</td>\n",
       "      <td>61069.000000</td>\n",
       "    </tr>\n",
       "    <tr>\n",
       "      <th>mean</th>\n",
       "      <td>6.733854</td>\n",
       "      <td>6.581538</td>\n",
       "      <td>12.149410</td>\n",
       "    </tr>\n",
       "    <tr>\n",
       "      <th>std</th>\n",
       "      <td>5.264845</td>\n",
       "      <td>3.370017</td>\n",
       "      <td>10.035955</td>\n",
       "    </tr>\n",
       "    <tr>\n",
       "      <th>min</th>\n",
       "      <td>0.380000</td>\n",
       "      <td>0.000000</td>\n",
       "      <td>0.000000</td>\n",
       "    </tr>\n",
       "    <tr>\n",
       "      <th>25%</th>\n",
       "      <td>3.480000</td>\n",
       "      <td>4.640000</td>\n",
       "      <td>5.210000</td>\n",
       "    </tr>\n",
       "    <tr>\n",
       "      <th>50%</th>\n",
       "      <td>5.860000</td>\n",
       "      <td>5.950000</td>\n",
       "      <td>10.190000</td>\n",
       "    </tr>\n",
       "    <tr>\n",
       "      <th>75%</th>\n",
       "      <td>8.540000</td>\n",
       "      <td>7.740000</td>\n",
       "      <td>16.570000</td>\n",
       "    </tr>\n",
       "    <tr>\n",
       "      <th>max</th>\n",
       "      <td>62.340000</td>\n",
       "      <td>33.920000</td>\n",
       "      <td>103.910000</td>\n",
       "    </tr>\n",
       "  </tbody>\n",
       "</table>\n",
       "</div>"
      ],
      "text/plain": [
       "       cap-diameter   stem-height    stem-width\n",
       "count  61069.000000  61069.000000  61069.000000\n",
       "mean       6.733854      6.581538     12.149410\n",
       "std        5.264845      3.370017     10.035955\n",
       "min        0.380000      0.000000      0.000000\n",
       "25%        3.480000      4.640000      5.210000\n",
       "50%        5.860000      5.950000     10.190000\n",
       "75%        8.540000      7.740000     16.570000\n",
       "max       62.340000     33.920000    103.910000"
      ]
     },
     "execution_count": 30,
     "metadata": {},
     "output_type": "execute_result"
    }
   ],
   "source": [
    "# Basic statistical measures (mean, median, mode) of quantitative columns\n",
    "# grabs all numerical measurements, of which there are only 3!\n",
    "df_numerical = df.select_dtypes(include=['int64', 'float64'])\n",
    "df_numerical.describe()"
   ]
  },
  {
   "cell_type": "code",
   "execution_count": 31,
   "metadata": {
    "colab": {
     "base_uri": "https://localhost:8080/",
     "height": 210
    },
    "id": "zjEOgUC0SrJr",
    "outputId": "5aad1bcf-2a3c-4ffa-d12b-20071ca7fb52"
   },
   "outputs": [
    {
     "data": {
      "text/html": [
       "<div>\n",
       "<style scoped>\n",
       "    .dataframe tbody tr th:only-of-type {\n",
       "        vertical-align: middle;\n",
       "    }\n",
       "\n",
       "    .dataframe tbody tr th {\n",
       "        vertical-align: top;\n",
       "    }\n",
       "\n",
       "    .dataframe thead th {\n",
       "        text-align: right;\n",
       "    }\n",
       "</style>\n",
       "<table border=\"1\" class=\"dataframe\">\n",
       "  <thead>\n",
       "    <tr style=\"text-align: right;\">\n",
       "      <th></th>\n",
       "      <th>cap-shape</th>\n",
       "      <th>cap-surface</th>\n",
       "      <th>cap-color</th>\n",
       "      <th>does-bruise-or-bleed</th>\n",
       "      <th>gill-attachment</th>\n",
       "      <th>gill-spacing</th>\n",
       "      <th>gill-color</th>\n",
       "      <th>stem-root</th>\n",
       "      <th>stem-surface</th>\n",
       "      <th>stem-color</th>\n",
       "      <th>veil-type</th>\n",
       "      <th>veil-color</th>\n",
       "      <th>has-ring</th>\n",
       "      <th>ring-type</th>\n",
       "      <th>spore-print-color</th>\n",
       "      <th>habitat</th>\n",
       "      <th>season</th>\n",
       "      <th>class</th>\n",
       "    </tr>\n",
       "  </thead>\n",
       "  <tbody>\n",
       "    <tr>\n",
       "      <th>count</th>\n",
       "      <td>61069</td>\n",
       "      <td>46949</td>\n",
       "      <td>61069</td>\n",
       "      <td>61069</td>\n",
       "      <td>51185</td>\n",
       "      <td>36006</td>\n",
       "      <td>61069</td>\n",
       "      <td>9531</td>\n",
       "      <td>22945</td>\n",
       "      <td>61069</td>\n",
       "      <td>3177</td>\n",
       "      <td>7413</td>\n",
       "      <td>61069</td>\n",
       "      <td>58598</td>\n",
       "      <td>6354</td>\n",
       "      <td>61069</td>\n",
       "      <td>61069</td>\n",
       "      <td>61069</td>\n",
       "    </tr>\n",
       "    <tr>\n",
       "      <th>unique</th>\n",
       "      <td>7</td>\n",
       "      <td>11</td>\n",
       "      <td>12</td>\n",
       "      <td>2</td>\n",
       "      <td>7</td>\n",
       "      <td>3</td>\n",
       "      <td>12</td>\n",
       "      <td>5</td>\n",
       "      <td>8</td>\n",
       "      <td>13</td>\n",
       "      <td>1</td>\n",
       "      <td>6</td>\n",
       "      <td>2</td>\n",
       "      <td>8</td>\n",
       "      <td>7</td>\n",
       "      <td>8</td>\n",
       "      <td>4</td>\n",
       "      <td>2</td>\n",
       "    </tr>\n",
       "    <tr>\n",
       "      <th>top</th>\n",
       "      <td>x</td>\n",
       "      <td>t</td>\n",
       "      <td>n</td>\n",
       "      <td>f</td>\n",
       "      <td>a</td>\n",
       "      <td>c</td>\n",
       "      <td>w</td>\n",
       "      <td>s</td>\n",
       "      <td>s</td>\n",
       "      <td>w</td>\n",
       "      <td>u</td>\n",
       "      <td>w</td>\n",
       "      <td>f</td>\n",
       "      <td>f</td>\n",
       "      <td>k</td>\n",
       "      <td>d</td>\n",
       "      <td>a</td>\n",
       "      <td>p</td>\n",
       "    </tr>\n",
       "    <tr>\n",
       "      <th>freq</th>\n",
       "      <td>26934</td>\n",
       "      <td>8196</td>\n",
       "      <td>24218</td>\n",
       "      <td>50479</td>\n",
       "      <td>12698</td>\n",
       "      <td>24710</td>\n",
       "      <td>18521</td>\n",
       "      <td>3177</td>\n",
       "      <td>6025</td>\n",
       "      <td>22926</td>\n",
       "      <td>3177</td>\n",
       "      <td>5474</td>\n",
       "      <td>45890</td>\n",
       "      <td>48361</td>\n",
       "      <td>2118</td>\n",
       "      <td>44209</td>\n",
       "      <td>30177</td>\n",
       "      <td>33888</td>\n",
       "    </tr>\n",
       "  </tbody>\n",
       "</table>\n",
       "</div>"
      ],
      "text/plain": [
       "       cap-shape cap-surface cap-color does-bruise-or-bleed gill-attachment  \\\n",
       "count      61069       46949     61069                61069           51185   \n",
       "unique         7          11        12                    2               7   \n",
       "top            x           t         n                    f               a   \n",
       "freq       26934        8196     24218                50479           12698   \n",
       "\n",
       "       gill-spacing gill-color stem-root stem-surface stem-color veil-type  \\\n",
       "count         36006      61069      9531        22945      61069      3177   \n",
       "unique            3         12         5            8         13         1   \n",
       "top               c          w         s            s          w         u   \n",
       "freq          24710      18521      3177         6025      22926      3177   \n",
       "\n",
       "       veil-color has-ring ring-type spore-print-color habitat season  class  \n",
       "count        7413    61069     58598              6354   61069  61069  61069  \n",
       "unique          6        2         8                 7       8      4      2  \n",
       "top             w        f         f                 k       d      a      p  \n",
       "freq         5474    45890     48361              2118   44209  30177  33888  "
      ]
     },
     "execution_count": 31,
     "metadata": {},
     "output_type": "execute_result"
    }
   ],
   "source": [
    "# get frequency of occurance in non-numerical data\n",
    "'''\n",
    "categorical_data = [\n",
    "    'cap-shape',\n",
    "    'cap-surface',\n",
    "    'cap-color',\n",
    "    'does-bruise-or-bleed',\n",
    "    'gill-attachment',\n",
    "    'gill-color',\n",
    "    'stem-root',\n",
    "    'stem-surface',\n",
    "    'stem-color',\n",
    "    'veil-type',\n",
    "    'veil-color',\n",
    "    'has-ring',\n",
    "    'ring-type',\n",
    "    'spore-print-color',\n",
    "    'habitat',\n",
    "    'season'\n",
    "]\n",
    "'''\n",
    "\n",
    "df_categorical = df.select_dtypes(include=['object', 'category'])\n",
    "\n",
    "df_categorical.describe()"
   ]
  },
  {
   "cell_type": "code",
   "execution_count": 32,
   "metadata": {
    "colab": {
     "base_uri": "https://localhost:8080/",
     "height": 143
    },
    "id": "Oanvcf5ZSPBy",
    "outputId": "bef7fd61-550c-4b1b-9c29-7db10488f15a"
   },
   "outputs": [
    {
     "data": {
      "text/html": [
       "<div>\n",
       "<style scoped>\n",
       "    .dataframe tbody tr th:only-of-type {\n",
       "        vertical-align: middle;\n",
       "    }\n",
       "\n",
       "    .dataframe tbody tr th {\n",
       "        vertical-align: top;\n",
       "    }\n",
       "\n",
       "    .dataframe thead th {\n",
       "        text-align: right;\n",
       "    }\n",
       "</style>\n",
       "<table border=\"1\" class=\"dataframe\">\n",
       "  <thead>\n",
       "    <tr style=\"text-align: right;\">\n",
       "      <th></th>\n",
       "      <th>cap-diameter</th>\n",
       "      <th>stem-height</th>\n",
       "      <th>stem-width</th>\n",
       "    </tr>\n",
       "  </thead>\n",
       "  <tbody>\n",
       "    <tr>\n",
       "      <th>cap-diameter</th>\n",
       "      <td>1.00000</td>\n",
       "      <td>0.422560</td>\n",
       "      <td>0.695330</td>\n",
       "    </tr>\n",
       "    <tr>\n",
       "      <th>stem-height</th>\n",
       "      <td>0.42256</td>\n",
       "      <td>1.000000</td>\n",
       "      <td>0.436117</td>\n",
       "    </tr>\n",
       "    <tr>\n",
       "      <th>stem-width</th>\n",
       "      <td>0.69533</td>\n",
       "      <td>0.436117</td>\n",
       "      <td>1.000000</td>\n",
       "    </tr>\n",
       "  </tbody>\n",
       "</table>\n",
       "</div>"
      ],
      "text/plain": [
       "              cap-diameter  stem-height  stem-width\n",
       "cap-diameter       1.00000     0.422560    0.695330\n",
       "stem-height        0.42256     1.000000    0.436117\n",
       "stem-width         0.69533     0.436117    1.000000"
      ]
     },
     "execution_count": 32,
     "metadata": {},
     "output_type": "execute_result"
    }
   ],
   "source": [
    "# show correlation matrix for numerical data.\n",
    "df[['cap-diameter', 'stem-height', 'stem-width']].corr()"
   ]
  },
  {
   "cell_type": "code",
   "execution_count": 43,
   "metadata": {
    "colab": {
     "base_uri": "https://localhost:8080/",
     "height": 853
    },
    "id": "7xY92h09W4P6",
    "outputId": "d63461c7-2ead-491d-983c-70f3a094a6d5"
   },
   "outputs": [
    {
     "data": {
      "image/png": "[encoded data removed]",
      "text/plain": [
       "<Figure size 1000x1000 with 4 Axes>"
      ]
     },
     "metadata": {},
     "output_type": "display_data"
    }
   ],
   "source": [
    "# generate graphs of numerical data to explore any correlations\n",
    "import matplotlib.pyplot as plt\n",
    "import seaborn as sns\n",
    "\n",
    "df_numerical.hist(figsize=(10, 10))\n",
    "plt.show()\n",
    "\n"
   ]
  },
  {
   "cell_type": "code",
   "execution_count": 34,
   "metadata": {
    "colab": {
     "base_uri": "https://localhost:8080/",
     "height": 682
    },
    "id": "TUK4uOG-XJ6R",
    "outputId": "2925c83b-0beb-4f92-cc29-deafd9d67a33"
   },
   "outputs": [
    {
     "data": {
      "image/png": "[encoded data removed]",
      "text/plain": [
       "<Figure size 2000x1000 with 1 Axes>"
      ]
     },
     "metadata": {},
     "output_type": "display_data"
    }
   ],
   "source": [
    "# generate bar charts to visualize categorical data\n",
    "df_categorical.apply(lambda x: x.value_counts()).plot(kind='bar', figsize=(20, 10))\n",
    "plt.show()"
   ]
  },
  {
   "cell_type": "markdown",
   "metadata": {
    "id": "_DMHfH09jggr"
   },
   "source": [
    "From this we should change the values of \"a-z\" to more descriptive meanings."
   ]
  },
  {
   "cell_type": "markdown",
   "metadata": {
    "id": "F0X0eUJGo3lZ"
   },
   "source": [
    "  # Module 6 - Data Preparation\n",
    "    Data cleaning techniques\n",
    "    Handling missing data (imputation strategies)\n",
    "    Dealing with categorical data (one-hot encoding)\n",
    "    Feature scaling and normalization\n",
    "    Handling outliers (when to remove, when to keep)\n",
    "    Handling class imbalance"
   ]
  },
  {
   "cell_type": "code",
   "execution_count": null,
   "metadata": {
    "id": "v-LAJhsieJYr"
   },
   "outputs": [],
   "source": [
    "# Data cleaning techniques\n",
    "# null values imply the absence of a feature, as the case may be with different categories of shrooms.\n",
    "# for example, a polypore will not have gill spacing, given it has a sponge-like gill structure, not all caps have veils, nor stems (like a reishi)\n",
    "# we should fill that NaN/null with something that indicates it, perhaps a na or false?\n",
    "# I would elect to make them explicitly n/a, as they aren't so much missing data\n",
    "# rather they are not applicable.\n",
    "\n",
    "# df.loc[:, df.columns != 'veil-type'].fillna(\"na\", inplace=True)\n",
    "# df.isnull().sum()\n",
    "\n",
    "# veil type has a special property, we want to avoid changing that right now"
   ]
  },
  {
   "cell_type": "code",
   "execution_count": 36,
   "metadata": {
    "colab": {
     "base_uri": "https://localhost:8080/",
     "height": 206
    },
    "id": "Ig-GCJIRpVAX",
    "outputId": "3e290b77-537f-441c-a5ee-bb4b336e2372"
   },
   "outputs": [
    {
     "data": {
      "text/html": [
       "<div>\n",
       "<style scoped>\n",
       "    .dataframe tbody tr th:only-of-type {\n",
       "        vertical-align: middle;\n",
       "    }\n",
       "\n",
       "    .dataframe tbody tr th {\n",
       "        vertical-align: top;\n",
       "    }\n",
       "\n",
       "    .dataframe thead th {\n",
       "        text-align: right;\n",
       "    }\n",
       "</style>\n",
       "<table border=\"1\" class=\"dataframe\">\n",
       "  <thead>\n",
       "    <tr style=\"text-align: right;\">\n",
       "      <th></th>\n",
       "      <th>does-bruise-or-bleed</th>\n",
       "      <th>has-ring</th>\n",
       "      <th>edible</th>\n",
       "    </tr>\n",
       "  </thead>\n",
       "  <tbody>\n",
       "    <tr>\n",
       "      <th>0</th>\n",
       "      <td>0</td>\n",
       "      <td>1</td>\n",
       "      <td>0</td>\n",
       "    </tr>\n",
       "    <tr>\n",
       "      <th>1</th>\n",
       "      <td>0</td>\n",
       "      <td>1</td>\n",
       "      <td>0</td>\n",
       "    </tr>\n",
       "    <tr>\n",
       "      <th>2</th>\n",
       "      <td>0</td>\n",
       "      <td>1</td>\n",
       "      <td>0</td>\n",
       "    </tr>\n",
       "    <tr>\n",
       "      <th>3</th>\n",
       "      <td>0</td>\n",
       "      <td>1</td>\n",
       "      <td>0</td>\n",
       "    </tr>\n",
       "    <tr>\n",
       "      <th>4</th>\n",
       "      <td>0</td>\n",
       "      <td>1</td>\n",
       "      <td>0</td>\n",
       "    </tr>\n",
       "  </tbody>\n",
       "</table>\n",
       "</div>"
      ],
      "text/plain": [
       "   does-bruise-or-bleed  has-ring  edible\n",
       "0                     0         1       0\n",
       "1                     0         1       0\n",
       "2                     0         1       0\n",
       "3                     0         1       0\n",
       "4                     0         1       0"
      ]
     },
     "execution_count": 36,
     "metadata": {},
     "output_type": "execute_result"
    }
   ],
   "source": [
    "# dealing with categorical data\n",
    "# majority of the data is categorical\n",
    "# so we will have to find ways to use that\n",
    "# mapping categorical data to their full name rather than code letters would be useful for the reader,\n",
    "# or maybe we could build a separate map to reference them\n",
    "\n",
    "#first, lets make all true/false data into 1/0\n",
    "df['does-bruise-or-bleed'] = df['does-bruise-or-bleed'].map({'t': 1, 'f': 0})\n",
    "df['has-ring'] = df['has-ring'].map({'t': 1, 'f': 0})\n",
    "\n",
    "# rename \"class\" to be explicit for edibility\n",
    "df['class'] = df['class'].map({'e': 1, 'p': 0})\n",
    "df.rename(columns={'class': 'edible'}, inplace=True)\n",
    "\n",
    "df[['does-bruise-or-bleed', 'has-ring', 'edible']].head()\n"
   ]
  },
  {
   "cell_type": "code",
   "execution_count": 37,
   "metadata": {
    "colab": {
     "base_uri": "https://localhost:8080/"
    },
    "id": "I810ZmvMDOfM",
    "outputId": "02ba1d86-5d96-4118-c998-1fe9567df08c"
   },
   "outputs": [
    {
     "name": "stdout",
     "output_type": "stream",
     "text": [
      "Unique values per column:\n",
      "cap-diameter (m): Range: 61.96\n",
      "cap-shape (n): ['convex' 'flat' 'spherical' 'bell' 'conical' 'sunken' 'others']\n",
      "cap-surface (n): ['grooves' 'shiny' nan 'sticky' 'scaly' 'fleshy' 'smooth' 'leathery' 'd'\n",
      " 'rusty' 'fibrous' 'silky']\n",
      "cap-color (n): ['orange' 'red' 'brown' 'gray' 'green' 'white' 'yellow' 'pink' 'purple'\n",
      " 'buff' 'blue' 'black']\n",
      "does-bruise-or-bleed (m): Range: 1\n",
      "gill-attachment (n): ['free' nan 'adnate' 'decurrent' 'sinuate' 'adnexed' 'pores' 'none']\n",
      "gill-spacing (n): [nan 'close' 'distant' 'none']\n",
      "gill-color (n): ['white' 'brown' 'pink' 'purple' 'buff' 'gray' 'yellow' 'green' 'red'\n",
      " 'orange' 'black' 'none']\n",
      "stem-height (m): Range: 33.92\n",
      "stem-width (m): Range: 103.91\n",
      "stem-root (n): ['swollen' nan 'bulbous' 'rooted' 'club' 'none']\n",
      "stem-surface (n): ['scaly' nan 'smooth' 'silky' 'fibrous' 'shiny' 'sticky' 'grooves' 'none']\n",
      "stem-color (n): ['white' 'yellow' 'brown' 'purple' 'buff' 'blue' 'green' 'pink' 'red'\n",
      " 'black' 'gray' 'orange' 'none']\n",
      "veil-type (n): ['universal' nan]\n",
      "veil-color (n): ['white' 'yellow' nan 'brown' 'red' 'purple' 'black']\n",
      "has-ring (m): Range: 1\n",
      "ring-type (n): ['gorged' 'pendant' 'evanescent' 'large' 'none' 'movable' nan 'flaring'\n",
      " 'zone']\n",
      "spore-print-color (n): [nan 'white' 'pink' 'black' 'green' 'purple' 'brown' 'gray']\n",
      "habitat (n): ['woods' 'meadows' 'grasses' 'heaths' 'leaves' 'paths' 'waste' 'urban']\n",
      "season (n): ['winter' 'summer' 'autumn' 'spring']\n",
      "edible (m): Range: 1\n"
     ]
    }
   ],
   "source": [
    "# dealing with categorical data\n",
    "# rename coded letters to human readable form\n",
    "\n",
    "df['cap-shape'] = df['cap-shape'].replace({\n",
    "    'b': 'bell',\n",
    "    'c': 'conical',\n",
    "    'x': 'convex',\n",
    "    'f': 'flat',\n",
    "    's': 'sunken',\n",
    "    'p': 'spherical',\n",
    "    'o': 'others'\n",
    "})\n",
    "df['cap-surface'] = df['cap-surface'].replace({\n",
    "    'i': 'fibrous',\n",
    "    'g': 'grooves',\n",
    "    'y': 'scaly',\n",
    "    's': 'smooth',\n",
    "    'h': 'shiny',\n",
    "    'l': 'leathery',\n",
    "    'k': 'silky',\n",
    "    't': 'sticky',\n",
    "    'w': 'rusty',\n",
    "    'e': 'fleshy'\n",
    "})\n",
    "df['cap-color'] = df['cap-color'].replace({\n",
    "    'n': 'brown',\n",
    "    'b': 'buff',\n",
    "    'g': 'gray',\n",
    "    'r': 'green',\n",
    "    'p': 'pink',\n",
    "    'u': 'purple',\n",
    "    'e': 'red',\n",
    "    'w': 'white',\n",
    "    'y': 'yellow',\n",
    "    'l': 'blue',\n",
    "    'o': 'orange',\n",
    "    'k': 'black'\n",
    "})\n",
    "df['gill-attachment'] = df['gill-attachment'].replace({\n",
    "    'a': 'adnate',\n",
    "    'x': 'adnexed',\n",
    "    'd': 'decurrent',\n",
    "    'e': 'free',\n",
    "    's': 'sinuate',\n",
    "    'p': 'pores',\n",
    "    'f': 'none',\n",
    "    '?': 'unknown'\n",
    "})\n",
    "df['gill-spacing'] = df['gill-spacing'].replace({\n",
    "    'c': 'close',\n",
    "    'd': 'distant',\n",
    "    'f': 'none'\n",
    "})\n",
    "df['gill-color'] = df['gill-color'].replace({\n",
    "    'n': 'brown',\n",
    "    'b': 'buff',\n",
    "    'g': 'gray',\n",
    "    'r': 'green',\n",
    "    'p': 'pink',\n",
    "    'u': 'purple',\n",
    "    'e': 'red',\n",
    "    'w': 'white',\n",
    "    'y': 'yellow',\n",
    "    'l': 'blue',\n",
    "    'o': 'orange',\n",
    "    'k': 'black',\n",
    "    'f': 'none'\n",
    "})\n",
    "df['stem-surface'] = df['stem-surface'].replace({\n",
    "    'i': 'fibrous',\n",
    "    'g': 'grooves',\n",
    "    'y': 'scaly',\n",
    "    's': 'smooth',\n",
    "    'h': 'shiny',\n",
    "    'l': 'leathery',\n",
    "    'k': 'silky',\n",
    "    't': 'sticky',\n",
    "    'w': 'rusty',\n",
    "    'e': 'fleshy',\n",
    "    'f': 'none'\n",
    "})\n",
    "df['stem-root'] = df['stem-root'].replace({\n",
    "    'b': 'bulbous',\n",
    "    's': 'swollen',\n",
    "    'c': 'club',\n",
    "    'u': 'cup',\n",
    "    'e': 'equal',\n",
    "    'z': 'rhizomorphs',\n",
    "    'r': 'rooted',\n",
    "    'f': 'none'\n",
    "})\n",
    "df['stem-color'] = df['stem-color'].replace({\n",
    "    'n': 'brown',\n",
    "    'b': 'buff',\n",
    "    'g': 'gray',\n",
    "    'r': 'green',\n",
    "    'p': 'pink',\n",
    "    'u': 'purple',\n",
    "    'e': 'red',\n",
    "    'w': 'white',\n",
    "    'y': 'yellow',\n",
    "    'l': 'blue',\n",
    "    'o': 'orange',\n",
    "    'k': 'black',\n",
    "    'f': 'none'\n",
    "})\n",
    "df['veil-color'] = df['veil-color'].replace({\n",
    "    'n': 'brown',\n",
    "    'b': 'buff',\n",
    "    'g': 'gray',\n",
    "    'r': 'green',\n",
    "    'p': 'pink',\n",
    "    'u': 'purple',\n",
    "    'e': 'red',\n",
    "    'w': 'white',\n",
    "    'y': 'yellow',\n",
    "    'l': 'blue',\n",
    "    'o': 'orange',\n",
    "    'k': 'black'\n",
    "})\n",
    "df['veil-type'] = df['veil-type'].replace({\n",
    "    'p': 'partial',\n",
    "    'u': 'universal',\n",
    "    'n': 'none'\n",
    "})\n",
    "df['ring-type'] = df['ring-type'].replace({\n",
    "    'c': 'cobwebby',\n",
    "    'e': 'evanescent',\n",
    "    'r': 'flaring',\n",
    "    'g': 'gorged',\n",
    "    'l': 'large',\n",
    "    'p': 'pendant',\n",
    "    's': 'sheathing',\n",
    "    'z': 'zone',\n",
    "    'y': 'scaly',\n",
    "    'm': 'movable',\n",
    "    'f': 'none',\n",
    "    '?': 'unknown'\n",
    "})\n",
    "df['spore-print-color'] = df['spore-print-color'].replace({\n",
    "    'n': 'brown',\n",
    "    'b': 'buff',\n",
    "    'g': 'gray',\n",
    "    'r': 'green',\n",
    "    'p': 'pink',\n",
    "    'u': 'purple',\n",
    "    'e': 'red',\n",
    "    'w': 'white',\n",
    "    'y': 'yellow',\n",
    "    'l': 'blue',\n",
    "    'o': 'orange',\n",
    "    'k': 'black'\n",
    "})\n",
    "df['habitat'] = df['habitat'].replace({\n",
    "    'g': 'grasses',\n",
    "    'l': 'leaves',\n",
    "    'm': 'meadows',\n",
    "    'p': 'paths',\n",
    "    'h': 'heaths',\n",
    "    'u': 'urban',\n",
    "    'w': 'waste',\n",
    "    'd': 'woods'\n",
    "})\n",
    "df['season'] = df['season'].replace({\n",
    "    's': 'spring',\n",
    "    'u': 'summer',\n",
    "    'a': 'autumn',\n",
    "    'w': 'winter'\n",
    "})\n",
    "# phew.\n",
    "\n",
    "# validate that everything got changed properly\n",
    "print(\"Unique values per column:\")\n",
    "for col in df.columns:\n",
    "  if df[col].dtype == 'object':\n",
    "    print(f\"{col} (n): {df[col].unique()}\")\n",
    "  else:\n",
    "    print(f\"{col} (m): Range: {df[col].max() - df[col].min()}\")"
   ]
  },
  {
   "cell_type": "code",
   "execution_count": 38,
   "metadata": {
    "colab": {
     "base_uri": "https://localhost:8080/"
    },
    "id": "4Qd0VRMJY1vy",
    "outputId": "f0fefed6-04fd-40cb-c94d-234e5f1d7f95"
   },
   "outputs": [
    {
     "name": "stdout",
     "output_type": "stream",
     "text": [
      "Counts of nones in cap-surface: 14120\n",
      "Counts of nones in gill-attachment: 13414\n",
      "Counts of nones in gill-spacing: 28593\n",
      "Counts of nones in gill-color: 3530\n",
      "Counts of nones in stem-root: 52597\n",
      "Counts of nones in stem-surface: 39183\n",
      "Counts of nones in stem-color: 1059\n",
      "Counts of nones in veil-type: 57892\n",
      "Counts of nones in veil-color: 53656\n",
      "Counts of nones in ring-type: 50832\n",
      "Counts of nones in spore-print-color: 54715\n"
     ]
    }
   ],
   "source": [
    "# handle null values\n",
    "# null values are a feature on this dataset and would represent a \"not applicable\" state\n",
    "# so we will do just that, and rename \"nan\" to \"none\"\n",
    "df.fillna(\"none\", inplace=True)\n",
    "for col in df.columns:\n",
    "  if (df[col] == 'none').sum() > 0:\n",
    "    print(f\"Counts of nones in {col}: {(df[col] == 'none').sum()}\" )"
   ]
  },
  {
   "cell_type": "code",
   "execution_count": 39,
   "metadata": {
    "id": "gjR4XkaIeaAk"
   },
   "outputs": [],
   "source": [
    "#feature scaling and normalization"
   ]
  },
  {
   "cell_type": "code",
   "execution_count": 40,
   "metadata": {
    "colab": {
     "base_uri": "https://localhost:8080/"
    },
    "id": "ZaVYXTmoeeFy",
    "outputId": "1fdb8631-8e64-47ea-bc05-e5b86b5cc0da"
   },
   "outputs": [
    {
     "name": "stdout",
     "output_type": "stream",
     "text": [
      "Removed 4432 rows with 'd' from cap-surface, which is 7.26% of all records.\n"
     ]
    }
   ],
   "source": [
    "#handling outliers\n",
    "# there should be no outliers in this kind of dataset,\n",
    "# but there are some unusual datatypes that have no known definition\n",
    "# for those, we will drop those values\n",
    "\n",
    "def report_changed(df_orig, df_new, drop_val, col):\n",
    "  dfo_len = len(df_orig)\n",
    "  dfn_len = len(df_new)\n",
    "  percentage = ((dfo_len - dfn_len) / dfo_len * 100)\n",
    "  print(f\"Removed {dfo_len - dfn_len} rows with '{drop_val}' from {col}, which is {percentage:.2f}% of all records.\")\n",
    "\n",
    "# remove any \"d\" cap surface, as it currently has no definition\n",
    "df_cleaned = df.drop(df[df['cap-surface'] == 'd'].index)\n",
    "report_changed(df, df_cleaned, 'd', 'cap-surface')\n",
    "\n",
    "\n",
    "# TODO: veil type should actually have 3 states: universal, partial, none\n",
    "# figure out something to do with that\n",
    "\n",
    "\n"
   ]
  },
  {
   "cell_type": "code",
   "execution_count": 41,
   "metadata": {
    "id": "aNB5Nu_Weeba"
   },
   "outputs": [],
   "source": [
    "#handling class imbalance\n",
    "# there should be no class imbalance in this kind of dataset, skip"
   ]
  },
  {
   "cell_type": "markdown",
   "metadata": {
    "id": "rUgN7xfCpMG-"
   },
   "source": [
    "# Module 8 - Machine Learning Algorithms\n",
    "\n",
    "    Train / Test / Val\n",
    "    Linear / Logistic Regression\n",
    "    Decision Trees\n",
    "    Random Forests / Boosting vs Bagging\n",
    "    Understanding Accuracy and the Confusion Matrix"
   ]
  },
  {
   "cell_type": "code",
   "execution_count": null,
   "metadata": {
    "colab": {
     "base_uri": "https://localhost:8080/"
    },
    "id": "DzOCoHqFehKj",
    "outputId": "bcf7255d-dbaa-440f-85ea-4c64d34fa67c"
   },
   "outputs": [
    {
     "data": {
      "text/plain": [
       "<Compressed Sparse Row sparse matrix of dtype 'float64'\n",
       "\twith 1221380 stored elements and shape (61069, 9547)>"
      ]
     },
     "execution_count": 48,
     "metadata": {},
     "output_type": "execute_result"
    }
   ],
   "source": [
    "# train/test/validate\n",
    "from sklearn.model_selection import train_test_split\n",
    "from sklearn.metrics import mean_squared_error\n",
    "from sklearn.metrics import r2_score\n",
    "from sklearn.metrics import accuracy_score\n",
    "\n",
    "#import one-hot from sklearn\n",
    "from sklearn.preprocessing import OneHotEncoder\n",
    "\n",
    "# select target\n",
    "y = df['edible']\n",
    "\n",
    "# select features\n",
    "X = df.drop('edible', axis=1)\n",
    "\n",
    "# convert X values to one-hot\n",
    "# TODO: ask for help with categorical data, oh no!\n",
    "OneHot_X = OneHotEncoder().fit_transform(X)\n",
    "\n",
    "# get numerical features\n",
    "# selected_features = ['cap-diameter', 'stem-height', 'stem-width']\n",
    "# X = selected_features = pd.get_dummies(X, dtype=int)\n",
    "\n",
    "# create training/testing data\n",
    "X_train, X_test, y_train, y_test = train_test_split(X, y, test_size=0.2, random_state=42)\n",
    "X_train_OH, X_test_OH, y_train_OH, y_test_OH = train_test_split(OneHot_X, y, test_size=0.2, random_state=42)\n",
    "\n",
    "X"
   ]
  },
  {
   "cell_type": "code",
   "execution_count": 50,
   "metadata": {
    "id": "rVipZ1T0xK-9"
   },
   "outputs": [],
   "source": [
    "# reusable code can be done with subroutines.\n",
    "def calculate_using_model(model_type, X_train, X_test, y_train, y_test):\n",
    "  model = model_type()\n",
    "  model.fit(X_train, y_train)\n",
    "\n",
    "  # make prediction\n",
    "  y_pred = model.predict(X_test)\n",
    "\n",
    "  # calculate accuracy\n",
    "  accuracy = model.score(X_test, y_test)\n",
    "\n",
    "  # get coefficients (if possible)\n",
    "  try:\n",
    "    model.coef_\n",
    "    coefficients = model.coef_\n",
    "  except AttributeError:\n",
    "    coefficients = None\n",
    "\n",
    "  # calculate mse\n",
    "  mse = mean_squared_error(y_test, y_pred)\n",
    "\n",
    "  # calculate r value\n",
    "  r2 = r2_score(y_test, y_pred)\n",
    "\n",
    "  # return as a tuple\n",
    "  return (model, y_pred, coefficients, accuracy, mse, r2)\n",
    "\n",
    "def report_model(model, y_pred, coefficients, accuracy, mse, r2):\n",
    "  print(\"Model:\", model)\n",
    "  print(\"Predictions:\", y_pred)\n",
    "  print(\"Accuracy:\", accuracy)\n",
    "  print(\"Mean Squared Error:\", mse)\n",
    "  print(\"R-squared:\", r2)\n",
    "  if coefficients is not None:\n",
    "    print(\"Coefficients:\\n\", pd.DataFrame(coefficients))\n",
    "\n",
    "    print()"
   ]
  },
  {
   "cell_type": "code",
   "execution_count": null,
   "metadata": {
    "colab": {
     "base_uri": "https://localhost:8080/"
    },
    "id": "v0se6RhEej4A",
    "outputId": "9918cb86-95ab-48cf-f45e-537e876f0a29"
   },
   "outputs": [
    {
     "name": "stdout",
     "output_type": "stream",
     "text": [
      "Model: LinearRegression()\n",
      "Predictions: [0.60590004 0.11745669 0.86363351 ... 0.2864327  0.81188927 0.66525848]\n",
      "Accuracy: 0.3806250446067754\n",
      "Mean Squared Error: 0.152613015265864\n",
      "R-squared: 0.3806250446067754\n",
      "Coefficients:\n",
      "              0\n",
      "0    -0.572253\n",
      "1    -0.650012\n",
      "2    -0.436080\n",
      "3    -0.468980\n",
      "4    -0.402840\n",
      "...        ...\n",
      "9542 -0.022690\n",
      "9543 -0.061929\n",
      "9544  0.029081\n",
      "9545 -0.081253\n",
      "9546  0.114101\n",
      "\n",
      "[9547 rows x 1 columns]\n",
      "\n"
     ]
    }
   ],
   "source": [
    "#linear/logistic regression\n",
    "# i don't think linear regression applies well to this dataset, but we can try it against the numerical data to see if there's any possible correlations\n",
    "# do linear regression\n",
    "\n",
    "\n",
    "from sklearn.linear_model import LinearRegression\n",
    "\n",
    "# generate a linear regression using the features available.\n",
    "linear_tuple = calculate_using_model(\n",
    "    LinearRegression,\n",
    "    X_train,\n",
    "    X_test,\n",
    "    y_train,\n",
    "    y_test\n",
    ")\n",
    "\n",
    "# report the linear model\n",
    "report_model(*linear_tuple)"
   ]
  },
  {
   "cell_type": "code",
   "execution_count": 58,
   "metadata": {
    "id": "Ke-8vJt-ez13"
   },
   "outputs": [
    {
     "name": "stdout",
     "output_type": "stream",
     "text": [
      "Model: LogisticRegression()\n",
      "Predictions: [1 0 1 ... 0 0 1]\n",
      "Accuracy: 0.865809726543311\n",
      "Mean Squared Error: 0.13419027345668905\n",
      "R-squared: 0.45539314263826036\n",
      "Coefficients:\n",
      "        0         1         2         3         4         5         6     \\\n",
      "0 -0.032702 -0.222818 -0.226393 -0.137611 -0.198376 -0.852152 -0.637638   \n",
      "\n",
      "       7        8         9     ...      9537      9538      9539      9540  \\\n",
      "0 -0.498815 -0.64066 -0.586546  ... -0.310408 -0.496717 -3.719867  1.998372   \n",
      "\n",
      "       9541      9542     9543      9544      9545      9546  \n",
      "0  1.971989 -0.644714 -1.01101  0.065356 -1.118573  0.231916  \n",
      "\n",
      "[1 rows x 9547 columns]\n",
      "\n"
     ]
    },
    {
     "name": "stderr",
     "output_type": "stream",
     "text": [
      "/Users/richardtrenchard/Downloads/MushroomHunter/.venv/lib/python3.13/site-packages/sklearn/linear_model/_logistic.py:465: ConvergenceWarning: lbfgs failed to converge (status=1):\n",
      "STOP: TOTAL NO. of ITERATIONS REACHED LIMIT.\n",
      "\n",
      "Increase the number of iterations (max_iter) or scale the data as shown in:\n",
      "    https://scikit-learn.org/stable/modules/preprocessing.html\n",
      "Please also refer to the documentation for alternative solver options:\n",
      "    https://scikit-learn.org/stable/modules/linear_model.html#logistic-regression\n",
      "  n_iter_i = _check_optimize_result(\n"
     ]
    }
   ],
   "source": [
    "# do logistic regression\n",
    "from sklearn.linear_model import LogisticRegression\n",
    "from sklearn.metrics import accuracy_score\n",
    "\n",
    "logistic_tuple = calculate_using_model(\n",
    "    LogisticRegression,\n",
    "    X_train,\n",
    "    X_test,\n",
    "    y_train,\n",
    "    y_test\n",
    ")\n",
    "\n",
    "report_model(*logistic_tuple)\n",
    "\n",
    "# unusable, only for demonstration"
   ]
  },
  {
   "cell_type": "code",
   "execution_count": null,
   "metadata": {
    "id": "Us1Hn2sHelL4"
   },
   "outputs": [],
   "source": [
    "# using a decision tree\n",
    "from sklearn.tree import DecisionTreeClassifier\n",
    "\n",
    "decision_tree_tuple = calculate_using_model(\n",
    "    DecisionTreeClassifier,\n",
    "    X_train,\n",
    "    X_test,\n",
    "    y_train,\n",
    "    y_test\n",
    ")\n",
    "\n",
    "report_model(*decision_tree_tuple)\n",
    "\n",
    "# unlikely to be true"
   ]
  },
  {
   "cell_type": "code",
   "execution_count": 57,
   "metadata": {
    "id": "9s1bsuDVemHf"
   },
   "outputs": [
    {
     "name": "stdout",
     "output_type": "stream",
     "text": [
      "Model: RandomForestClassifier()\n",
      "Predictions: [1 0 1 ... 1 0 1]\n",
      "Accuracy: 0.9996725069592272\n",
      "Mean Squared Error: 0.0003274930407728836\n",
      "R-squared: 0.9986708801528694\n"
     ]
    }
   ],
   "source": [
    "#random forests/boosting vs bagging\n",
    "\n",
    "# generate random forest\n",
    "from sklearn.ensemble import RandomForestClassifier\n",
    "random_forest_tuple = calculate_using_model(\n",
    "    RandomForestClassifier,\n",
    "    X_train,\n",
    "    X_test,\n",
    "    y_train,\n",
    "    y_test\n",
    ")\n",
    "\n",
    "#report random forest\n",
    "report_model(*random_forest_tuple)"
   ]
  },
  {
   "cell_type": "code",
   "execution_count": null,
   "metadata": {
    "id": "Y3C_cmcWen6w"
   },
   "outputs": [],
   "source": [
    "# understanding accuracy and the confusion matrix\n",
    "# generate confusion matrix\n",
    "from sklearn.metrics import confusion_matrix\n",
    "import seaborn as sns\n",
    "import matplotlib.pyplot as plt\n",
    "\n",
    "\n",
    "\n",
    "\n"
   ]
  },
  {
   "cell_type": "markdown",
   "metadata": {},
   "source": [
    "#### Module 9\n",
    "    Cross-validation\n",
    "    Overfitting / underfitting and handling each\n",
    "    Learning and validation curves"
   ]
  },
  {
   "cell_type": "code",
   "execution_count": null,
   "metadata": {},
   "outputs": [],
   "source": []
  },
  {
   "cell_type": "markdown",
   "metadata": {},
   "source": [
    "#### Module 10 - Model Improvements\n",
    "\n",
    "    Ensemble methods\n",
    "        Voting classifiers\n",
    "        Stacking\n",
    "        Blending\n",
    "    Hyperparameter tuning\n",
    "        Grid search\n",
    "        Random search\n",
    "        Bayesian optimization\n",
    "    Error analysis and iterative improvement"
   ]
  },
  {
   "cell_type": "code",
   "execution_count": null,
   "metadata": {},
   "outputs": [],
   "source": []
  },
  {
   "cell_type": "markdown",
   "metadata": {},
   "source": [
    "#### Module 11 - Model Deployment\n",
    "\n",
    "    Creating a simple API for model deployment (using Flask)\n",
    "    Monitoring model performance in production\n",
    "    Ethical considerations in AI/ML\n",
    "        Bias and fairness in machine learning\n",
    "        Privacy concerns and data protection\n",
    "        Transparency and explainability of models\n",
    "    Responsible AI practices\n",
    "    Legal and regulatory considerations (e.g., GDPR, CCPA)\n",
    "    Strategies for ongoing model monitoring, maintenance, and improvement"
   ]
  },
  {
   "cell_type": "code",
   "execution_count": 56,
   "metadata": {},
   "outputs": [
    {
     "name": "stdout",
     "output_type": "stream",
     "text": [
      "Collecting flask\n",
      "  Downloading flask-3.1.0-py3-none-any.whl.metadata (2.7 kB)\n",
      "Collecting Werkzeug>=3.1 (from flask)\n",
      "  Downloading werkzeug-3.1.3-py3-none-any.whl.metadata (3.7 kB)\n",
      "Collecting Jinja2>=3.1.2 (from flask)\n",
      "  Using cached jinja2-3.1.4-py3-none-any.whl.metadata (2.6 kB)\n",
      "Collecting itsdangerous>=2.2 (from flask)\n",
      "  Using cached itsdangerous-2.2.0-py3-none-any.whl.metadata (1.9 kB)\n",
      "Collecting click>=8.1.3 (from flask)\n",
      "  Using cached click-8.1.7-py3-none-any.whl.metadata (3.0 kB)\n",
      "Collecting blinker>=1.9 (from flask)\n",
      "  Downloading blinker-1.9.0-py3-none-any.whl.metadata (1.6 kB)\n",
      "Collecting MarkupSafe>=2.0 (from Jinja2>=3.1.2->flask)\n",
      "  Using cached MarkupSafe-3.0.2-cp313-cp313-macosx_10_13_universal2.whl.metadata (4.0 kB)\n",
      "Downloading flask-3.1.0-py3-none-any.whl (102 kB)\n",
      "Downloading blinker-1.9.0-py3-none-any.whl (8.5 kB)\n",
      "Using cached click-8.1.7-py3-none-any.whl (97 kB)\n",
      "Using cached itsdangerous-2.2.0-py3-none-any.whl (16 kB)\n",
      "Using cached jinja2-3.1.4-py3-none-any.whl (133 kB)\n",
      "Downloading werkzeug-3.1.3-py3-none-any.whl (224 kB)\n",
      "Using cached MarkupSafe-3.0.2-cp313-cp313-macosx_10_13_universal2.whl (14 kB)\n",
      "Installing collected packages: MarkupSafe, itsdangerous, click, blinker, Werkzeug, Jinja2, flask\n",
      "Successfully installed Jinja2-3.1.4 MarkupSafe-3.0.2 Werkzeug-3.1.3 blinker-1.9.0 click-8.1.7 flask-3.1.0 itsdangerous-2.2.0\n",
      "Note: you may need to restart the kernel to use updated packages.\n"
     ]
    }
   ],
   "source": [
    "# ensure flask is downloaded into project/venv\n",
    "%pip install flask\n"
   ]
  },
  {
   "cell_type": "code",
   "execution_count": null,
   "metadata": {},
   "outputs": [],
   "source": [
    "# create flask endpoint\n",
    "from flask import Flask, jsonify, request\n",
    "\n",
    "app = Flask(\"MushroomHunter\")\n",
    "\n",
    "# take in an input, return \"edible\" or \"non-edible\" chance\n",
    "@app.route('/eval', methods=['GET'])\n",
    "def evaluate_shroom():\n",
    "    print(request.query_string)\n",
    "    pass\n",
    "\n",
    "\n",
    "app.run(debug=True, port=3000)"
   ]
  },
  {
   "cell_type": "markdown",
   "metadata": {},
   "source": [
    "\n",
    "**Monitoring model performance in production**\n",
    "* Being able to retrieve r-values, among other metrics, in the API would be a good start for this. an end-user or dev can easily retrieve values to evaluate performance.\n",
    "\n",
    "**Ethical considerations in AI/ML**\n",
    "* Bias and fairness in machine learning\n",
    "    *   This sort of model is very biased towards the \"nonedible\" as a matter of safety, this includes:\n",
    "        *  unpalatable mushrooms (may have nutritional qualities, but too bitter to eat)\n",
    "        *  toxic mushrooms\n",
    "        *  hallucinogenic mushrooms (for obvious, legal reasons.)\n",
    "        *  unsubstantial mushrooms (edible, but not worth your time)\n",
    "        *  unknown mushrooms (edibility has not yet been tested)\n",
    "\n",
    "* Privacy concerns and data protection\n",
    "    *   This sort of model should be safe in terms of privacy and data (fungi doesn't seem to care!)\n",
    "        \n",
    "* Transparency and explainability of models\n",
    "    *   Explained further down, this model needs to maintain transperancy of the model, where the data comes from, the accuracy of the data, and what it represents. This data shall not be used as an authoritative tool to say whether a mushroom is or is not edible.\n",
    "    \n",
    "**Responsible AI practices**\n",
    "* This model shall adhere to responsible AI practices:\n",
    "  * Fairness\n",
    "    * This model will not have bias with respect to people, and errs on the side of caution in its biases when classifying edibility\n",
    "  * Transperancy\n",
    "    * The end-user shall know that this model is not an authority on classification\n",
    "  * Accountability\n",
    "    * As with Transperancy, The model shall warn end-users about the dangers of accepting results at face value\n",
    "  * Privacy\n",
    "    * Not a concern with this model\n",
    "  * Safety\n",
    "    * This model should maintain safety, and its model should not be able to be hijacked by unintended inputs\n",
    "  * Inclusivity\n",
    "    * N/A, all mushrooms welcome\n",
    "  * Ethical Use\n",
    "    * This model shall align with societal values, and may only be used for public good.\n",
    "  * Continuous monitoring\n",
    "    * The dataset is liable to changes, as such it may break. Given the dataset is exhaustive with most aspects of shrooms, this is unlikely to happen; however, this may change the models accuracy metrics.\n",
    "\n",
    "**Legal and regulatory considerations (e.g., GDPR, CCPA)**\n",
    "  * as with any web resource on potentially toxic substances, it should *not* be used as a decisionmaker when inspecting the edibility of wild mushrooms. Many mushrooms have look-alikes, and while most are fine, the deadly ones are extremely deadly.\n",
    "  * As a result, this means that this ML model needs to make serious consideration for the legal principle of **Liability for Harm**. End-users need to know that this is only for demonstration, perhaps as a tool for starting the process of classification, but not assuring it.\n",
    "  * Because of its liability for harm, it must also maintain the principle of **transparency** to assure end-users of what kind of safety they might expect from this tool.\n",
    "\n",
    "**Strategies for ongoing model monitoring, maintenance, and improvement**\n",
    "    * Strategies as mentioned previously should include being able to get the model performance metrics via the API\n",
    "    * future iterations should probably consider packaging this in a dedicated python script.\n",
    "    * permanent storage of data is a good idea for maintenance, what if the server goes down?"
   ]
  },
  {
   "cell_type": "markdown",
   "metadata": {
    "id": "dJcyrQl1qnxP"
   },
   "source": [
    "#### Dataset Citation\n",
    "Wagner, D., Heider, D., & Hattab, G. (2021). Secondary Mushroom [Dataset]. UCI Machine Learning Repository. https://doi.org/10.24432/C5FP5Q."
   ]
  }
 ],
 "metadata": {
  "colab": {
   "provenance": []
  },
  "kernelspec": {
   "display_name": ".venv",
   "language": "python",
   "name": "python3"
  },
  "language_info": {
   "codemirror_mode": {
    "name": "ipython",
    "version": 3
   },
   "file_extension": ".py",
   "mimetype": "text/x-python",
   "name": "python",
   "nbconvert_exporter": "python",
   "pygments_lexer": "ipython3",
   "version": "3.13.0"
  }
 },
 "nbformat": 4,
 "nbformat_minor": 0
}
