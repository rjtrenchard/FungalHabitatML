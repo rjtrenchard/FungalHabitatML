{
  "nbformat": 4,
  "nbformat_minor": 0,
  "metadata": {
    "colab": {
      "provenance": [],
      "authorship_tag": "ABX9TyMybkA8NVJBB/43ha5fSI9t",
      "include_colab_link": true
    },
    "kernelspec": {
      "name": "python3",
      "display_name": "Python 3"
    },
    "language_info": {
      "name": "python"
    }
  },
  "cells": [
    {
      "cell_type": "markdown",
      "metadata": {
        "id": "view-in-github",
        "colab_type": "text"
      },
      "source": [
        "<a href=\"https://colab.research.google.com/github/rjtrenchard/FungalHabitatML/blob/main/Mushroom_Hunter.ipynb\" target=\"_parent\"><img src=\"https://colab.research.google.com/assets/colab-badge.svg\" alt=\"Open In Colab\"/></a>"
      ]
    },
    {
      "cell_type": "markdown",
      "source": [
        "# Mushroom Hunter\n",
        "\n",
        "Author: R.J. Trenchard\n",
        "\n",
        "Date: Nov. 11, 2024\n",
        "\n",
        "#### Description:\n",
        "This is an ML project that will try to identify mushrooms based on given characteristics."
      ],
      "metadata": {
        "id": "SvyyQOoCrp79"
      }
    },
    {
      "cell_type": "code",
      "execution_count": null,
      "metadata": {
        "id": "a6HAalvzrksk"
      },
      "outputs": [],
      "source": []
    }
  ]
}